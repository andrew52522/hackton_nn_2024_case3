{
 "cells": [
  {
   "cell_type": "code",
   "execution_count": 6,
   "id": "2b1ead8c",
   "metadata": {},
   "outputs": [
    {
     "name": "stdout",
     "output_type": "stream",
     "text": [
      "Requirement already satisfied: opencv-python in c:\\users\\user\\anaconda3\\lib\\site-packages (4.10.0.84)\n",
      "Requirement already satisfied: numpy>=1.21.2 in c:\\users\\user\\anaconda3\\lib\\site-packages (from opencv-python) (1.24.3)\n"
     ]
    }
   ],
   "source": [
    "# установка модулей необходимых\n",
    "!pip install opencv-python\n",
    "!pip install --upgrade pip\n",
    "!pip install --upgrade Pillow\n",
    "!pip install torch torchvision torchaudio --index-url https://download.pytorch.org/whl/cu118\n",
    "!pip install ultralytics\n"
   ]
  },
  {
   "cell_type": "code",
   "execution_count": 1,
   "id": "fa7f870c",
   "metadata": {},
   "outputs": [],
   "source": [
    "import cv2\n",
    "import torch\n",
    "from ultralytics import YOLO\n",
    "from PIL import Image, ImageEnhance\n",
    "import os\n"
   ]
  },
  {
   "cell_type": "code",
   "execution_count": 2,
   "id": "5a5c25f0",
   "metadata": {},
   "outputs": [],
   "source": [
    "# функция для тестирования\n",
    "def show(frame, chk):\n",
    "    if chk:\n",
    "        cv2.imshow('wow', frame)\n",
    "        cv2.waitKey(0)\n",
    "# функция для предпроцессинга\n",
    "def preprocessing(frame, chk):\n",
    "    show(frame, chk)\n",
    "    cv2.imwrite('frame.jpg', frame)\n",
    "    im = Image.open('frame.jpg')\n",
    "    enh = ImageEnhance.Contrast(im)\n",
    "    output = enh.enhance(1.5) #повышаем контрастность фрагмента в 1.5 раза \n",
    "    output.save('frame.jpg')\n",
    "    frame = cv2.imread('frame.jpg')\n",
    "    show(frame, chk)\n",
    "    cv2.destroyAllWindows()\n",
    "    cv2.imwrite('frame.jpg', frame)\n",
    "\n",
    "# подсчет людей    \n",
    "def count_people(image_path = 'files/1.jpg'):\n",
    "    model = YOLO('yolov8n.pt') \n",
    "    preprocessing(cv2.imread(image_path), chk)\n",
    "    image = cv2.imread('frame.jpg')\n",
    "    os.remove('frame.jpg')\n",
    "    results = model(image)\n",
    "    person_count = 0\n",
    "    for result in results:\n",
    "        boxes = result.boxes.xyxy  # Получение координат боксов\n",
    "        classes = result.boxes.cls  # Получение классов объектов\n",
    "        for box, cls in zip(boxes, classes):\n",
    "            # Проверяем, что обнаруженный объект - человек\n",
    "            if int(cls) == 0: \n",
    "                person_count += 1\n",
    "                x1, y1, x2, y2 = map(int, box)\n",
    "                cv2.rectangle(image, (x1, y1), (x2, y2), (0, 255, 0), 2)\n",
    "    # Отображение результата\n",
    "    cv2.imwrite('static/result.jpg', image)\n",
    "    cv2.destroyAllWindows()\n",
    "    return person_count\n",
    "\n",
    "# зануляем переменную  chk. Для тестирования убрать эту строку\n",
    "chk = 0"
   ]
  },
  {
   "cell_type": "code",
   "execution_count": 6,
   "id": "c4f15057",
   "metadata": {},
   "outputs": [
    {
     "name": "stdout",
     "output_type": "stream",
     "text": [
      "\n",
      "0: 480x640 19 persons, 1 handbag, 1 potted plant, 234.3ms\n",
      "Speed: 4.7ms preprocess, 234.3ms inference, 0.0ms postprocess per image at shape (1, 3, 480, 640)\n"
     ]
    },
    {
     "data": {
      "text/plain": [
       "19"
      ]
     },
     "execution_count": 6,
     "metadata": {},
     "output_type": "execute_result"
    }
   ],
   "source": [
    "# пример работы\n",
    "# в image_path передать название фото\n",
    "count_people(image_path = 'seq_000285.jpg')"
   ]
  },
  {
   "cell_type": "code",
   "execution_count": null,
   "id": "9ba75a15",
   "metadata": {},
   "outputs": [],
   "source": []
  },
  {
   "cell_type": "code",
   "execution_count": null,
   "id": "c05a34b5",
   "metadata": {},
   "outputs": [],
   "source": []
  }
 ],
 "metadata": {
  "kernelspec": {
   "display_name": "Python 3 (ipykernel)",
   "language": "python",
   "name": "python3"
  },
  "language_info": {
   "codemirror_mode": {
    "name": "ipython",
    "version": 3
   },
   "file_extension": ".py",
   "mimetype": "text/x-python",
   "name": "python",
   "nbconvert_exporter": "python",
   "pygments_lexer": "ipython3",
   "version": "3.11.5"
  }
 },
 "nbformat": 4,
 "nbformat_minor": 5
}
